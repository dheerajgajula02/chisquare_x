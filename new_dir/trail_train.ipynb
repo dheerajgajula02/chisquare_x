{
 "cells": [
  {
   "cell_type": "code",
   "execution_count": 1,
   "id": "42ce4b73-11e6-412a-a070-ae9c24278a43",
   "metadata": {},
   "outputs": [
    {
     "name": "stdout",
     "output_type": "stream",
     "text": [
      "Collecting ultralytics\n",
      "  Downloading ultralytics-8.0.164-py3-none-any.whl (608 kB)\n",
      "\u001b[2K     \u001b[38;2;114;156;31m━━━━━━━━━━━━━━━━━━━━━━━━━━━━━━━━━━━━━━━\u001b[0m \u001b[32m608.9/608.9 kB\u001b[0m \u001b[31m4.7 MB/s\u001b[0m eta \u001b[36m0:00:00\u001b[0m MB/s\u001b[0m eta \u001b[36m0:00:01\u001b[0m\n",
      "\u001b[?25hCollecting py-cpuinfo\n",
      "  Downloading py_cpuinfo-9.0.0-py3-none-any.whl (22 kB)\n",
      "Requirement already satisfied: requests>=2.23.0 in /home/dheeraj/.local/lib/python3.10/site-packages (from ultralytics) (2.31.0)\n",
      "Requirement already satisfied: torch>=1.8.0 in /home/dheeraj/.local/lib/python3.10/site-packages (from ultralytics) (2.0.1+cpu)\n",
      "Requirement already satisfied: pandas>=1.1.4 in /home/dheeraj/.local/lib/python3.10/site-packages (from ultralytics) (2.0.2)\n",
      "Requirement already satisfied: scipy>=1.4.1 in /home/dheeraj/.local/lib/python3.10/site-packages (from ultralytics) (1.11.1)\n",
      "Requirement already satisfied: torchvision>=0.9.0 in /home/dheeraj/.local/lib/python3.10/site-packages (from ultralytics) (0.15.2+cpu)\n",
      "Requirement already satisfied: pyyaml>=5.3.1 in /home/dheeraj/anaconda3/lib/python3.10/site-packages (from ultralytics) (6.0)\n",
      "Requirement already satisfied: pillow>=7.1.2 in /home/dheeraj/.local/lib/python3.10/site-packages (from ultralytics) (10.0.0)\n",
      "Requirement already satisfied: tqdm>=4.64.0 in /home/dheeraj/.local/lib/python3.10/site-packages (from ultralytics) (4.65.0)\n",
      "Requirement already satisfied: seaborn>=0.11.0 in /home/dheeraj/anaconda3/lib/python3.10/site-packages (from ultralytics) (0.12.2)\n",
      "Requirement already satisfied: psutil in /home/dheeraj/anaconda3/lib/python3.10/site-packages (from ultralytics) (5.9.0)\n",
      "Requirement already satisfied: matplotlib>=3.2.2 in /home/dheeraj/.local/lib/python3.10/site-packages (from ultralytics) (3.7.1)\n",
      "Requirement already satisfied: numpy>=1.22.2 in /home/dheeraj/.local/lib/python3.10/site-packages (from ultralytics) (1.25.1)\n",
      "Requirement already satisfied: opencv-python>=4.6.0 in /home/dheeraj/.local/lib/python3.10/site-packages (from ultralytics) (4.8.0.74)\n",
      "Requirement already satisfied: packaging>=20.0 in /home/dheeraj/anaconda3/lib/python3.10/site-packages (from matplotlib>=3.2.2->ultralytics) (22.0)\n",
      "Requirement already satisfied: pyparsing>=2.3.1 in /home/dheeraj/.local/lib/python3.10/site-packages (from matplotlib>=3.2.2->ultralytics) (3.0.9)\n",
      "Requirement already satisfied: fonttools>=4.22.0 in /home/dheeraj/.local/lib/python3.10/site-packages (from matplotlib>=3.2.2->ultralytics) (4.40.0)\n",
      "Requirement already satisfied: contourpy>=1.0.1 in /home/dheeraj/.local/lib/python3.10/site-packages (from matplotlib>=3.2.2->ultralytics) (1.1.0)\n",
      "Requirement already satisfied: kiwisolver>=1.0.1 in /home/dheeraj/.local/lib/python3.10/site-packages (from matplotlib>=3.2.2->ultralytics) (1.4.4)\n",
      "Requirement already satisfied: python-dateutil>=2.7 in /home/dheeraj/.local/lib/python3.10/site-packages (from matplotlib>=3.2.2->ultralytics) (2.8.2)\n",
      "Requirement already satisfied: cycler>=0.10 in /home/dheeraj/.local/lib/python3.10/site-packages (from matplotlib>=3.2.2->ultralytics) (0.11.0)\n",
      "Requirement already satisfied: tzdata>=2022.1 in /home/dheeraj/.local/lib/python3.10/site-packages (from pandas>=1.1.4->ultralytics) (2023.3)\n",
      "Requirement already satisfied: pytz>=2020.1 in /home/dheeraj/anaconda3/lib/python3.10/site-packages (from pandas>=1.1.4->ultralytics) (2022.7)\n",
      "Requirement already satisfied: idna<4,>=2.5 in /home/dheeraj/.local/lib/python3.10/site-packages (from requests>=2.23.0->ultralytics) (3.4)\n",
      "Requirement already satisfied: charset-normalizer<4,>=2 in /home/dheeraj/.local/lib/python3.10/site-packages (from requests>=2.23.0->ultralytics) (3.1.0)\n",
      "Requirement already satisfied: urllib3<3,>=1.21.1 in /home/dheeraj/.local/lib/python3.10/site-packages (from requests>=2.23.0->ultralytics) (1.26.15)\n",
      "Requirement already satisfied: certifi>=2017.4.17 in /home/dheeraj/.local/lib/python3.10/site-packages (from requests>=2.23.0->ultralytics) (2023.5.7)\n",
      "Requirement already satisfied: jinja2 in /home/dheeraj/.local/lib/python3.10/site-packages (from torch>=1.8.0->ultralytics) (3.1.2)\n",
      "Requirement already satisfied: sympy in /home/dheeraj/.local/lib/python3.10/site-packages (from torch>=1.8.0->ultralytics) (1.12)\n",
      "Requirement already satisfied: typing-extensions in /home/dheeraj/.local/lib/python3.10/site-packages (from torch>=1.8.0->ultralytics) (4.7.1)\n",
      "Requirement already satisfied: networkx in /home/dheeraj/.local/lib/python3.10/site-packages (from torch>=1.8.0->ultralytics) (3.0)\n",
      "Requirement already satisfied: filelock in /home/dheeraj/.local/lib/python3.10/site-packages (from torch>=1.8.0->ultralytics) (3.12.2)\n",
      "Requirement already satisfied: six>=1.5 in /home/dheeraj/.local/lib/python3.10/site-packages (from python-dateutil>=2.7->matplotlib>=3.2.2->ultralytics) (1.16.0)\n",
      "Requirement already satisfied: MarkupSafe>=2.0 in /home/dheeraj/.local/lib/python3.10/site-packages (from jinja2->torch>=1.8.0->ultralytics) (2.1.3)\n",
      "Requirement already satisfied: mpmath>=0.19 in /home/dheeraj/.local/lib/python3.10/site-packages (from sympy->torch>=1.8.0->ultralytics) (1.3.0)\n",
      "Installing collected packages: py-cpuinfo, ultralytics\n",
      "Successfully installed py-cpuinfo-9.0.0 ultralytics-8.0.164\n"
     ]
    }
   ],
   "source": [
    "!pip install ultralytics"
   ]
  },
  {
   "cell_type": "code",
   "execution_count": 2,
   "id": "2cfc008d-6e53-411e-ade9-f518c811bc2e",
   "metadata": {},
   "outputs": [],
   "source": [
    "from ultralytics import YOLO"
   ]
  },
  {
   "cell_type": "code",
   "execution_count": 6,
   "id": "121bdc15-9838-486a-9ed1-c02d956f9c97",
   "metadata": {},
   "outputs": [],
   "source": [
    "path = \"yolov8n-seg.pt\""
   ]
  },
  {
   "cell_type": "code",
   "execution_count": 7,
   "id": "e8a9f62f-86f9-4c5f-897d-bed1e88abceb",
   "metadata": {},
   "outputs": [],
   "source": [
    "model = YOLO(path)"
   ]
  },
  {
   "cell_type": "code",
   "execution_count": null,
   "id": "5caffac0-55e0-4438-9022-fb38b41739aa",
   "metadata": {},
   "outputs": [
    {
     "name": "stderr",
     "output_type": "stream",
     "text": [
      "Ultralytics YOLOv8.0.164 🚀 Python-3.10.9 torch-2.0.1+cpu CPU (11th Gen Intel Core(TM) i5-11300H 3.10GHz)\n",
      "\u001b[34m\u001b[1mengine/trainer: \u001b[0mtask=segment, mode=train, model=yolov8n-seg.pt, data=config.yaml, epochs=1, patience=50, batch=16, imgsz=640, save=True, save_period=-1, cache=False, device=None, workers=8, project=None, name=None, exist_ok=False, pretrained=True, optimizer=auto, verbose=True, seed=0, deterministic=True, single_cls=False, rect=False, cos_lr=False, close_mosaic=10, resume=False, amp=True, fraction=1.0, profile=False, freeze=None, overlap_mask=True, mask_ratio=4, dropout=0.0, val=True, split=val, save_json=False, save_hybrid=False, conf=None, iou=0.7, max_det=300, half=False, dnn=False, plots=True, source=None, show=False, save_txt=False, save_conf=False, save_crop=False, show_labels=True, show_conf=True, vid_stride=1, stream_buffer=False, line_width=None, visualize=False, augment=False, agnostic_nms=False, classes=None, retina_masks=False, boxes=True, format=torchscript, keras=False, optimize=False, int8=False, dynamic=False, simplify=False, opset=None, workspace=4, nms=False, lr0=0.01, lrf=0.01, momentum=0.937, weight_decay=0.0005, warmup_epochs=3.0, warmup_momentum=0.8, warmup_bias_lr=0.1, box=7.5, cls=0.5, dfl=1.5, pose=12.0, kobj=1.0, label_smoothing=0.0, nbs=64, hsv_h=0.015, hsv_s=0.7, hsv_v=0.4, degrees=0.0, translate=0.1, scale=0.5, shear=0.0, perspective=0.0, flipud=0.0, fliplr=0.5, mosaic=1.0, mixup=0.0, copy_paste=0.0, cfg=None, tracker=botsort.yaml, save_dir=runs/segment/train\n",
      "Downloading https://ultralytics.com/assets/Arial.ttf to '/home/dheeraj/.config/Ultralytics/Arial.ttf'...\n",
      "100%|████████████████████████████████████████| 755k/755k [00:00<00:00, 3.65MB/s]\n",
      "Overriding model.yaml nc=80 with nc=1\n",
      "\n",
      "                   from  n    params  module                                       arguments                     \n",
      "  0                  -1  1       464  ultralytics.nn.modules.conv.Conv             [3, 16, 3, 2]                 \n",
      "  1                  -1  1      4672  ultralytics.nn.modules.conv.Conv             [16, 32, 3, 2]                \n",
      "  2                  -1  1      7360  ultralytics.nn.modules.block.C2f             [32, 32, 1, True]             \n",
      "  3                  -1  1     18560  ultralytics.nn.modules.conv.Conv             [32, 64, 3, 2]                \n",
      "  4                  -1  2     49664  ultralytics.nn.modules.block.C2f             [64, 64, 2, True]             \n",
      "  5                  -1  1     73984  ultralytics.nn.modules.conv.Conv             [64, 128, 3, 2]               \n",
      "  6                  -1  2    197632  ultralytics.nn.modules.block.C2f             [128, 128, 2, True]           \n",
      "  7                  -1  1    295424  ultralytics.nn.modules.conv.Conv             [128, 256, 3, 2]              \n",
      "  8                  -1  1    460288  ultralytics.nn.modules.block.C2f             [256, 256, 1, True]           \n",
      "  9                  -1  1    164608  ultralytics.nn.modules.block.SPPF            [256, 256, 5]                 \n",
      " 10                  -1  1         0  torch.nn.modules.upsampling.Upsample         [None, 2, 'nearest']          \n",
      " 11             [-1, 6]  1         0  ultralytics.nn.modules.conv.Concat           [1]                           \n",
      " 12                  -1  1    148224  ultralytics.nn.modules.block.C2f             [384, 128, 1]                 \n",
      " 13                  -1  1         0  torch.nn.modules.upsampling.Upsample         [None, 2, 'nearest']          \n",
      " 14             [-1, 4]  1         0  ultralytics.nn.modules.conv.Concat           [1]                           \n",
      " 15                  -1  1     37248  ultralytics.nn.modules.block.C2f             [192, 64, 1]                  \n",
      " 16                  -1  1     36992  ultralytics.nn.modules.conv.Conv             [64, 64, 3, 2]                \n",
      " 17            [-1, 12]  1         0  ultralytics.nn.modules.conv.Concat           [1]                           \n",
      " 18                  -1  1    123648  ultralytics.nn.modules.block.C2f             [192, 128, 1]                 \n",
      " 19                  -1  1    147712  ultralytics.nn.modules.conv.Conv             [128, 128, 3, 2]              \n",
      " 20             [-1, 9]  1         0  ultralytics.nn.modules.conv.Concat           [1]                           \n",
      " 21                  -1  1    493056  ultralytics.nn.modules.block.C2f             [384, 256, 1]                 \n",
      " 22        [15, 18, 21]  1   1004275  ultralytics.nn.modules.head.Segment          [1, 32, 64, [64, 128, 256]]   \n",
      "YOLOv8n-seg summary: 261 layers, 3263811 parameters, 3263795 gradients\n",
      "\n",
      "Transferred 381/417 items from pretrained weights\n",
      "\u001b[34m\u001b[1mTensorBoard: \u001b[0mStart with 'tensorboard --logdir runs/segment/train', view at http://localhost:6006/\n",
      "Freezing layer 'model.22.dfl.conv.weight'\n",
      "\u001b[34m\u001b[1mtrain: \u001b[0mScanning /home/dheeraj/Desktop/Projects/chisqare_x/new_dir/labels/train..\u001b[0m\n",
      "\u001b[34m\u001b[1mtrain: \u001b[0mNew cache created: /home/dheeraj/Desktop/Projects/chisqare_x/new_dir/labels/train.cache\n",
      "\u001b[34m\u001b[1mval: \u001b[0mScanning /home/dheeraj/Desktop/Projects/chisqare_x/new_dir/labels/val... 24\u001b[0m\n",
      "\u001b[34m\u001b[1mval: \u001b[0mNew cache created: /home/dheeraj/Desktop/Projects/chisqare_x/new_dir/labels/val.cache\n",
      "Plotting labels to runs/segment/train/labels.jpg... \n",
      "\u001b[34m\u001b[1moptimizer:\u001b[0m AdamW(lr=0.002, momentum=0.9) with parameter groups 66 weight(decay=0.0), 77 weight(decay=0.0005), 76 bias(decay=0.0)\n",
      "/home/dheeraj/.local/lib/python3.10/site-packages/torch/nn/functional.py:2415: TracerWarning: Converting a tensor to a Python boolean might cause the trace to be incorrect. We can't record the data flow of Python values, so this value will be treated as a constant in the future. This means that the trace might not generalize to other inputs!\n",
      "  if size_prods == 1:\n",
      "Image sizes 640 train, 640 val\n",
      "Using 0 dataloader workers\n",
      "Logging results to \u001b[1mruns/segment/train\u001b[0m\n",
      "Starting training for 1 epochs...\n",
      "\n",
      "      Epoch    GPU_mem   box_loss   seg_loss   cls_loss   dfl_loss  Instances       Size\n",
      "  0%|          | 0/6 [00:00<?, ?it/s]"
     ]
    }
   ],
   "source": [
    "model.train(data=\"config.yaml\", epochs=1, imgsz=640)"
   ]
  },
  {
   "cell_type": "code",
   "execution_count": null,
   "id": "7f1cecec-cd41-499d-a73f-6f6802b9f21e",
   "metadata": {},
   "outputs": [],
   "source": []
  }
 ],
 "metadata": {
  "kernelspec": {
   "display_name": "Python 3 (ipykernel)",
   "language": "python",
   "name": "python3"
  },
  "language_info": {
   "codemirror_mode": {
    "name": "ipython",
    "version": 3
   },
   "file_extension": ".py",
   "mimetype": "text/x-python",
   "name": "python",
   "nbconvert_exporter": "python",
   "pygments_lexer": "ipython3",
   "version": "3.10.9"
  }
 },
 "nbformat": 4,
 "nbformat_minor": 5
}
